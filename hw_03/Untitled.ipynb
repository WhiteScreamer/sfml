{
 "cells": [
  {
   "cell_type": "code",
   "execution_count": 69,
   "metadata": {},
   "outputs": [],
   "source": [
    "import pandas as pd"
   ]
  },
  {
   "cell_type": "code",
   "execution_count": 70,
   "metadata": {},
   "outputs": [
    {
     "data": {
      "text/plain": [
       "<function print>"
      ]
     },
     "execution_count": 70,
     "metadata": {},
     "output_type": "execute_result"
    }
   ],
   "source": [
    "train=pd.read_csv(\"train.csv\", index_col=\"_id\")\n",
    "train.head()\n",
    "print"
   ]
  },
  {
   "cell_type": "code",
   "execution_count": 71,
   "metadata": {},
   "outputs": [
    {
     "name": "stdout",
     "output_type": "stream",
     "text": [
      "197\n",
      "45\n",
      "1060\n",
      "5144\n",
      "622\n",
      "622\n",
      "0\n",
      "21346\n",
      "23830\n",
      "4\n"
     ]
    }
   ],
   "source": [
    "print(train[train[\"job\"]==\"unknown\"][\"job\"].count())\n",
    "print(train[train[\"marital\"]==\"unknown\"][\"marital\"].count())\n",
    "print(train[train[\"education\"]==\"unknown\"][\"education\"].count())\n",
    "print(train[train[\"default\"]==\"unknown\"][\"default\"].count())\n",
    "print(train[train[\"housing\"]==\"unknown\"][\"housing\"].count())\n",
    "print(train[train[\"loan\"]==\"unknown\"][\"loan\"].count())\n",
    "print(train[train[\"contact\"]==\"unknown\"][\"contact\"].count())\n",
    "print(train[train[\"poutcome\"]==\"nonexistent\"][\"poutcome\"].count())\n",
    "print(train[train[\"pdays\"]==999][\"pdays\"].count())\n",
    "print(train[train[\"duration\"]==0][\"duration\"].count())"
   ]
  },
  {
   "cell_type": "code",
   "execution_count": 72,
   "metadata": {},
   "outputs": [
    {
     "data": {
      "text/plain": [
       "_id\n",
       "82cbc50ab68cd672c96e7194dcfaea6e    unknown\n",
       "5f93dd1ade1ca125297e37e0a419ea45    unknown\n",
       "24744dba3f30c29b58d9a7c961d1e6ec    unknown\n",
       "18730c69ac6ea2620dc95500ba52e089    unknown\n",
       "8998af4d76aadd660c8c88ce7140c07a    unknown\n",
       "1c94f1009ff65c0a499040c0d1ae082f    unknown\n",
       "927614f45eea82862baa8eb66e203460    unknown\n",
       "e2f215adacc1a15e1642bdb6fdde9019    unknown\n",
       "67130d31b6048171a64ed87d36022a6e    unknown\n",
       "444c4ec0e9631740fc634d0cc859cc4d    unknown\n",
       "939b10ad6a89b1ef49b156125af4e9cd    unknown\n",
       "5506b574076ab0101975a2c2553a6371    unknown\n",
       "2752e00008828dd03e4fcc973f430325    unknown\n",
       "3ad267c6f3f791531939199c0d317411    unknown\n",
       "b2e94d1eaa1e91d81d048aa84653144a    unknown\n",
       "5adc370210437fe4c54d2e28abfcf0f8    unknown\n",
       "4aa476a72347ba44c9bd20c974d0f181    unknown\n",
       "459d275aac7c7ccd367c49f6ee9d41ba    unknown\n",
       "27f053cd2a2ba1a6e307a86d5217c848    unknown\n",
       "f11ecf0799d06c57f9aac6b5152cdd68    unknown\n",
       "81da6fb8b4e8dbf7f64ef7d1dcad9bcb    unknown\n",
       "068a65e2015efd22c70add600f0892b6    unknown\n",
       "4b0098b0bebec836ccf90d208c6c4aea    unknown\n",
       "cd755d9e91763d78823723bcfc35f36b    unknown\n",
       "500afd745d556d26a7bc99474a38207b    unknown\n",
       "ee576d1f14ea1aae4e58b6e575299de0    unknown\n",
       "4d2e859e9f03632ab1621634dc2650df    unknown\n",
       "e4777815d03b46463e5020560d382e2b    unknown\n",
       "9d8ebf8c51a2dbe996e4ee87b1aa2c31    unknown\n",
       "103d53195831078faabdacc784b0eeb7    unknown\n",
       "                                     ...   \n",
       "c28e175f319e7024a8b56af388bafb30    unknown\n",
       "c6e21af3bcfc0d5b2adf6592ad30ec09    unknown\n",
       "6029d5611d0f4eabb3f1ef7942fb87da    unknown\n",
       "04d9d9dd98f62636d0b7233248ec1dfd    unknown\n",
       "09ab9f7577691e0ae681c995e952748b    unknown\n",
       "513dd2cb63942070c24a5e41ee13a085    unknown\n",
       "3024f5e1ff01d30b4af3f66385a5e1b0    unknown\n",
       "54a51dbcc3c44b63adb67716a0c49931    unknown\n",
       "60980b07a9980117a54428adc5fd44b8    unknown\n",
       "4b07a82a9f33f9e9c9619f800eed51b4    unknown\n",
       "a91be4986ba804d2b5c87d3168407d35    unknown\n",
       "fcc9cefc787b4860296134713a4b25d7    unknown\n",
       "7cc5f29067138f20570cc0097eb1edad    unknown\n",
       "703c578014dd2974dfbbf891c12b48eb    unknown\n",
       "c30c3f99eebe77a50cbd1ef6ef15a34b    unknown\n",
       "4a5bfc559ba8cbe8f9c8ce05fe99e3df    unknown\n",
       "3da4df83153ebd5fd849dd125b12baab    unknown\n",
       "85da5efd5e0de50996b0810a155e8f51    unknown\n",
       "c41907cf047a527fbf449d6c49d72651    unknown\n",
       "1666ba51af756693678da9efc443ef44    unknown\n",
       "b79b214e49ac97224aac7e60c202b7c8    unknown\n",
       "acbc471c7ed6927678ef2cf039705598    unknown\n",
       "db11700b0b3d9e43908be95522483b88    unknown\n",
       "c77a081ed4da477a5f171c4c22310091    unknown\n",
       "7d3d0e7e0045a6b0c723328223817702    unknown\n",
       "cca41684df3e2e0c4e80032e442da2b4    unknown\n",
       "eadbed91c073c847ff62cce9b4ca83fb    unknown\n",
       "906f2d4cfe9f9f8e4825750d5e564c8f    unknown\n",
       "417916f12af39500dd853b029630a51f    unknown\n",
       "75ac59c4a31d14acfe39145f92a8e8a4    unknown\n",
       "Name: job, Length: 197, dtype: object"
      ]
     },
     "execution_count": 72,
     "metadata": {},
     "output_type": "execute_result"
    }
   ],
   "source": [
    "train[train[\"job\"]==\"unknown\"][\"job\"]"
   ]
  },
  {
   "cell_type": "code",
   "execution_count": 73,
   "metadata": {},
   "outputs": [],
   "source": [
    "train.loc[train[\"job\"]==\"admin.\",\"job\"]=\"1\""
   ]
  },
  {
   "cell_type": "code",
   "execution_count": 74,
   "metadata": {},
   "outputs": [
    {
     "data": {
      "text/plain": [
       "_id\n",
       "df7489733b004bbe40d3d37b34f82419       technician\n",
       "905a0b9a5456ee962223033473666be3         services\n",
       "02d69c07ec6d68e31d641edd45ce61cd      blue-collar\n",
       "e492fbe0cccaf67cdb5c0944dbc8a167      blue-collar\n",
       "ac2dc6f5835bdea8e71dd99b65208d07         services\n",
       "3c41d96da147ab5a745938cbd85e2313    self-employed\n",
       "1a87845e9d5740a2619acd478da08459                1\n",
       "e07d393a5d9b174b39f6064823386759       management\n",
       "e5a3da407a75e8475a3e1bb6a804b1c7          retired\n",
       "42b112272cd4851b4d65d1ed464fbbd9      blue-collar\n",
       "13d1b247882324ade5e27cb5823168ce                1\n",
       "34f3e8404d0ff8b12d2e7be426703580      blue-collar\n",
       "658f8926c5f1f915398c5a08b985718b         services\n",
       "bbc46d5d98f2af40312ede115c0611d3       technician\n",
       "a2a6549b622f3937c66b40f806da3f28     entrepreneur\n",
       "0f0a1783841fcaee35adf3ac18bb6b6e       technician\n",
       "a8498a5ced174919e9618f69d8da3514      blue-collar\n",
       "bdfc0757136671abbf785346a9677eb9       unemployed\n",
       "ad4ddcd54807b24f7d0e9290865583af         services\n",
       "e9d44b24b224a789cb0a6d6be744ee02      blue-collar\n",
       "9a676f614e0fdafffd885fa06da360e5       management\n",
       "304d1cde1c30d22a53cbe71158cf8da8      blue-collar\n",
       "5e345fdce6fb10d9162dfcb9fcab6291      blue-collar\n",
       "98e5198294f54198761188f2f3026157                1\n",
       "fcb39ae9118f11ed8888acf2894ff39f                1\n",
       "5dc13e0ab97ce145dc71554f042d7f88                1\n",
       "cf05b11cd85bfb0de070accda0ae02c7         services\n",
       "1a2806f2831f8ed4cee0d96f7189cd6b                1\n",
       "bcb26dd8d8629050593b2bae0406f871         services\n",
       "09b2b2b497ba98b396bb03cd9656031b                1\n",
       "                                        ...      \n",
       "28b57c7cdd412e5bc7d04eccefe6c289                1\n",
       "3482906bb3aaf38125bad674436e7e3a                1\n",
       "8ec05f3d62caf55b8571f3902d6368cc                1\n",
       "abeed7a34fe08bd28fc9fe0f1b542a23                1\n",
       "28e37d39272f9d6d788d86cbf1810af5                1\n",
       "34145bc9401824f0af3a1f7c0cc2f6f5       management\n",
       "4324b364931a5222e9e20d6126e27143       technician\n",
       "34c87a94e726b0cb2172b9169b2cd972       management\n",
       "c07a845b30361ec28c21e2d366ee96b8      blue-collar\n",
       "2d58d21625f5a34e0919eece4348ba2f       technician\n",
       "286544c3eb2304b0c23405db4425a871         services\n",
       "c1c77f0d583dd6725bf9c6b00270955d     entrepreneur\n",
       "056d3806a5c04bfced4ab766c1126db7       technician\n",
       "519566f4297aa248b9495efd2ebfc5ba       technician\n",
       "23479e3b9b6c7deb5710b3805ce66e8f       technician\n",
       "e45e136c3dec79e4b71dedf380e16234          retired\n",
       "4938b821ccc410e7185dd641059c1c3e         services\n",
       "911b2429623176dc28854a37af4da54f         services\n",
       "28226a3bf54c2dd8cbb3e08b64ee730d          student\n",
       "ef5a718ea268f0b9627e48715c08b855       management\n",
       "5bda10424327b19dacd7ad441eb96f87                1\n",
       "3b645c9f6fe700760d6eb129fb39cbaa      blue-collar\n",
       "bab14c06a4521a1be42886d06a949524       management\n",
       "2cc26ab0e721e5e9c6669413f75da257       unemployed\n",
       "dafc873488714ecc84cb5dff649e8495       management\n",
       "4161f19fed82fd2c937291775bfa7891          retired\n",
       "96e1c42e88b9e93256e1538b2001b98f       management\n",
       "55f91ed39163c14985c2a8ad85b80635                1\n",
       "01734878c05d2dded8c726a622fdba9e       management\n",
       "46d0d25dfd1def79632dd437261d0b5c                1\n",
       "Name: job, Length: 24712, dtype: object"
      ]
     },
     "execution_count": 74,
     "metadata": {},
     "output_type": "execute_result"
    }
   ],
   "source": [
    "train[\"job\"]"
   ]
  },
  {
   "cell_type": "code",
   "execution_count": null,
   "metadata": {},
   "outputs": [],
   "source": []
  },
  {
   "cell_type": "code",
   "execution_count": null,
   "metadata": {},
   "outputs": [],
   "source": []
  }
 ],
 "metadata": {
  "kernelspec": {
   "display_name": "Python 3",
   "language": "python",
   "name": "python3"
  },
  "language_info": {
   "codemirror_mode": {
    "name": "ipython",
    "version": 3
   },
   "file_extension": ".py",
   "mimetype": "text/x-python",
   "name": "python",
   "nbconvert_exporter": "python",
   "pygments_lexer": "ipython3",
   "version": "3.6.5"
  }
 },
 "nbformat": 4,
 "nbformat_minor": 2
}
