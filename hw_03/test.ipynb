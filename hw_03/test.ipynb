{
 "cells": [
  {
   "cell_type": "code",
   "execution_count": 16,
   "metadata": {},
   "outputs": [
    {
     "data": {
      "text/html": [
       "<div>\n",
       "<style scoped>\n",
       "    .dataframe tbody tr th:only-of-type {\n",
       "        vertical-align: middle;\n",
       "    }\n",
       "\n",
       "    .dataframe tbody tr th {\n",
       "        vertical-align: top;\n",
       "    }\n",
       "\n",
       "    .dataframe thead th {\n",
       "        text-align: right;\n",
       "    }\n",
       "</style>\n",
       "<table border=\"1\" class=\"dataframe\">\n",
       "  <thead>\n",
       "    <tr style=\"text-align: right;\">\n",
       "      <th></th>\n",
       "      <th>age</th>\n",
       "      <th>job</th>\n",
       "      <th>marital</th>\n",
       "      <th>education</th>\n",
       "      <th>default</th>\n",
       "      <th>housing</th>\n",
       "      <th>loan</th>\n",
       "      <th>contact</th>\n",
       "      <th>month</th>\n",
       "      <th>day_of_week</th>\n",
       "      <th>...</th>\n",
       "      <th>campaign</th>\n",
       "      <th>pdays</th>\n",
       "      <th>previous</th>\n",
       "      <th>poutcome</th>\n",
       "      <th>emp.var.rate</th>\n",
       "      <th>cons.price.idx</th>\n",
       "      <th>cons.conf.idx</th>\n",
       "      <th>euribor3m</th>\n",
       "      <th>nr.employed</th>\n",
       "      <th>target</th>\n",
       "    </tr>\n",
       "    <tr>\n",
       "      <th>_id</th>\n",
       "      <th></th>\n",
       "      <th></th>\n",
       "      <th></th>\n",
       "      <th></th>\n",
       "      <th></th>\n",
       "      <th></th>\n",
       "      <th></th>\n",
       "      <th></th>\n",
       "      <th></th>\n",
       "      <th></th>\n",
       "      <th></th>\n",
       "      <th></th>\n",
       "      <th></th>\n",
       "      <th></th>\n",
       "      <th></th>\n",
       "      <th></th>\n",
       "      <th></th>\n",
       "      <th></th>\n",
       "      <th></th>\n",
       "      <th></th>\n",
       "      <th></th>\n",
       "    </tr>\n",
       "  </thead>\n",
       "  <tbody>\n",
       "    <tr>\n",
       "      <th>df7489733b004bbe40d3d37b34f82419</th>\n",
       "      <td>54</td>\n",
       "      <td>technician</td>\n",
       "      <td>married</td>\n",
       "      <td>professional.course</td>\n",
       "      <td>unknown</td>\n",
       "      <td>no</td>\n",
       "      <td>no</td>\n",
       "      <td>cellular</td>\n",
       "      <td>aug</td>\n",
       "      <td>tue</td>\n",
       "      <td>...</td>\n",
       "      <td>1</td>\n",
       "      <td>999</td>\n",
       "      <td>0</td>\n",
       "      <td>nonexistent</td>\n",
       "      <td>1.4</td>\n",
       "      <td>93.444</td>\n",
       "      <td>-36.1</td>\n",
       "      <td>4.963</td>\n",
       "      <td>5228.1</td>\n",
       "      <td>0</td>\n",
       "    </tr>\n",
       "    <tr>\n",
       "      <th>905a0b9a5456ee962223033473666be3</th>\n",
       "      <td>36</td>\n",
       "      <td>services</td>\n",
       "      <td>single</td>\n",
       "      <td>basic.4y</td>\n",
       "      <td>no</td>\n",
       "      <td>no</td>\n",
       "      <td>no</td>\n",
       "      <td>telephone</td>\n",
       "      <td>may</td>\n",
       "      <td>mon</td>\n",
       "      <td>...</td>\n",
       "      <td>1</td>\n",
       "      <td>999</td>\n",
       "      <td>0</td>\n",
       "      <td>nonexistent</td>\n",
       "      <td>1.1</td>\n",
       "      <td>93.994</td>\n",
       "      <td>-36.4</td>\n",
       "      <td>4.857</td>\n",
       "      <td>5191.0</td>\n",
       "      <td>0</td>\n",
       "    </tr>\n",
       "    <tr>\n",
       "      <th>02d69c07ec6d68e31d641edd45ce61cd</th>\n",
       "      <td>53</td>\n",
       "      <td>blue-collar</td>\n",
       "      <td>married</td>\n",
       "      <td>basic.4y</td>\n",
       "      <td>no</td>\n",
       "      <td>yes</td>\n",
       "      <td>no</td>\n",
       "      <td>cellular</td>\n",
       "      <td>aug</td>\n",
       "      <td>mon</td>\n",
       "      <td>...</td>\n",
       "      <td>1</td>\n",
       "      <td>999</td>\n",
       "      <td>0</td>\n",
       "      <td>nonexistent</td>\n",
       "      <td>1.4</td>\n",
       "      <td>93.444</td>\n",
       "      <td>-36.1</td>\n",
       "      <td>4.965</td>\n",
       "      <td>5228.1</td>\n",
       "      <td>0</td>\n",
       "    </tr>\n",
       "    <tr>\n",
       "      <th>e492fbe0cccaf67cdb5c0944dbc8a167</th>\n",
       "      <td>34</td>\n",
       "      <td>blue-collar</td>\n",
       "      <td>married</td>\n",
       "      <td>basic.9y</td>\n",
       "      <td>no</td>\n",
       "      <td>yes</td>\n",
       "      <td>yes</td>\n",
       "      <td>telephone</td>\n",
       "      <td>may</td>\n",
       "      <td>wed</td>\n",
       "      <td>...</td>\n",
       "      <td>2</td>\n",
       "      <td>999</td>\n",
       "      <td>0</td>\n",
       "      <td>nonexistent</td>\n",
       "      <td>1.1</td>\n",
       "      <td>93.994</td>\n",
       "      <td>-36.4</td>\n",
       "      <td>4.857</td>\n",
       "      <td>5191.0</td>\n",
       "      <td>0</td>\n",
       "    </tr>\n",
       "    <tr>\n",
       "      <th>ac2dc6f5835bdea8e71dd99b65208d07</th>\n",
       "      <td>29</td>\n",
       "      <td>services</td>\n",
       "      <td>single</td>\n",
       "      <td>university.degree</td>\n",
       "      <td>no</td>\n",
       "      <td>yes</td>\n",
       "      <td>no</td>\n",
       "      <td>telephone</td>\n",
       "      <td>aug</td>\n",
       "      <td>fri</td>\n",
       "      <td>...</td>\n",
       "      <td>1</td>\n",
       "      <td>999</td>\n",
       "      <td>0</td>\n",
       "      <td>nonexistent</td>\n",
       "      <td>-1.7</td>\n",
       "      <td>94.027</td>\n",
       "      <td>-38.3</td>\n",
       "      <td>0.890</td>\n",
       "      <td>4991.6</td>\n",
       "      <td>0</td>\n",
       "    </tr>\n",
       "  </tbody>\n",
       "</table>\n",
       "<p>5 rows × 21 columns</p>\n",
       "</div>"
      ],
      "text/plain": [
       "                                  age          job  marital  \\\n",
       "_id                                                           \n",
       "df7489733b004bbe40d3d37b34f82419   54   technician  married   \n",
       "905a0b9a5456ee962223033473666be3   36     services   single   \n",
       "02d69c07ec6d68e31d641edd45ce61cd   53  blue-collar  married   \n",
       "e492fbe0cccaf67cdb5c0944dbc8a167   34  blue-collar  married   \n",
       "ac2dc6f5835bdea8e71dd99b65208d07   29     services   single   \n",
       "\n",
       "                                            education  default housing loan  \\\n",
       "_id                                                                           \n",
       "df7489733b004bbe40d3d37b34f82419  professional.course  unknown      no   no   \n",
       "905a0b9a5456ee962223033473666be3             basic.4y       no      no   no   \n",
       "02d69c07ec6d68e31d641edd45ce61cd             basic.4y       no     yes   no   \n",
       "e492fbe0cccaf67cdb5c0944dbc8a167             basic.9y       no     yes  yes   \n",
       "ac2dc6f5835bdea8e71dd99b65208d07    university.degree       no     yes   no   \n",
       "\n",
       "                                    contact month day_of_week   ...    \\\n",
       "_id                                                             ...     \n",
       "df7489733b004bbe40d3d37b34f82419   cellular   aug         tue   ...     \n",
       "905a0b9a5456ee962223033473666be3  telephone   may         mon   ...     \n",
       "02d69c07ec6d68e31d641edd45ce61cd   cellular   aug         mon   ...     \n",
       "e492fbe0cccaf67cdb5c0944dbc8a167  telephone   may         wed   ...     \n",
       "ac2dc6f5835bdea8e71dd99b65208d07  telephone   aug         fri   ...     \n",
       "\n",
       "                                  campaign  pdays  previous     poutcome  \\\n",
       "_id                                                                        \n",
       "df7489733b004bbe40d3d37b34f82419         1    999         0  nonexistent   \n",
       "905a0b9a5456ee962223033473666be3         1    999         0  nonexistent   \n",
       "02d69c07ec6d68e31d641edd45ce61cd         1    999         0  nonexistent   \n",
       "e492fbe0cccaf67cdb5c0944dbc8a167         2    999         0  nonexistent   \n",
       "ac2dc6f5835bdea8e71dd99b65208d07         1    999         0  nonexistent   \n",
       "\n",
       "                                 emp.var.rate  cons.price.idx  cons.conf.idx  \\\n",
       "_id                                                                            \n",
       "df7489733b004bbe40d3d37b34f82419          1.4          93.444          -36.1   \n",
       "905a0b9a5456ee962223033473666be3          1.1          93.994          -36.4   \n",
       "02d69c07ec6d68e31d641edd45ce61cd          1.4          93.444          -36.1   \n",
       "e492fbe0cccaf67cdb5c0944dbc8a167          1.1          93.994          -36.4   \n",
       "ac2dc6f5835bdea8e71dd99b65208d07         -1.7          94.027          -38.3   \n",
       "\n",
       "                                  euribor3m  nr.employed  target  \n",
       "_id                                                               \n",
       "df7489733b004bbe40d3d37b34f82419      4.963       5228.1       0  \n",
       "905a0b9a5456ee962223033473666be3      4.857       5191.0       0  \n",
       "02d69c07ec6d68e31d641edd45ce61cd      4.965       5228.1       0  \n",
       "e492fbe0cccaf67cdb5c0944dbc8a167      4.857       5191.0       0  \n",
       "ac2dc6f5835bdea8e71dd99b65208d07      0.890       4991.6       0  \n",
       "\n",
       "[5 rows x 21 columns]"
      ]
     },
     "execution_count": 16,
     "metadata": {},
     "output_type": "execute_result"
    }
   ],
   "source": [
    "import pandas as pd\n",
    "train=pd.read_csv(\"train.csv\", index_col=\"_id\")\n",
    "train.head()"
   ]
  },
  {
   "cell_type": "code",
   "execution_count": 17,
   "metadata": {},
   "outputs": [],
   "source": [
    "removeWithEmptyCol=[\"job\",\"marital\",\"education\",\"default\",\"housing\",\"loan\",\"contact\"]\n",
    "\n",
    "def removeEmptyDataForTraining(testData):    \n",
    "    for col in removeWithEmptyCol:\n",
    "        testData=testData[testData[col]!=\"unknown\"]\n",
    "    testData=testData[testData[\"duration\"]!=0]\n",
    "\n",
    "removeEmptyDataForTraining(train)    \n",
    "    \n",
    "target=\"target\"\n",
    "y=train[target]\n",
    "train=train.drop([target], axis=1)  "
   ]
  },
  {
   "cell_type": "code",
   "execution_count": 18,
   "metadata": {},
   "outputs": [],
   "source": [
    "from sklearn.cross_validation import train_test_split\n",
    "#X_train, X_test, y_train, y_test = train_test_split(train, y, test_size=0.10, random_state=50)\n",
    "X_test=train\n",
    "y_test=y\n"
   ]
  },
  {
   "cell_type": "code",
   "execution_count": 19,
   "metadata": {},
   "outputs": [],
   "source": [
    "import numpy as np\n",
    "\n",
    "#removingCol=[\"nr.employed\", \"day_of_week\"]\n",
    "removingCol=[\"day_of_week\"]\n",
    "\n",
    "def fillCatEmpty(data,colName,emptyName=\"unknown\"):       \n",
    "    empVal=data[data[colName]!=emptyName][colName].value_counts().index[0]\n",
    "    data[colName]=data[colName].map(lambda val: empVal if val==emptyName else val)\n",
    "\n",
    "catCol=[\"job\",\"marital\",\"education\",\"default\",\"housing\",\"loan\",\"contact\"]\n",
    "\n",
    "def numeralizeCat(data,colName,valdict):    \n",
    "    data[colName]=data[colName].map(lambda val: valdict[val])    \n",
    "\n",
    "def fillEmptyNum(data,colName,emptyNumVal):    \n",
    "    mean=data[data[colName]!=emptyNumVal][colName].mean()        \n",
    "    data[colName]=data[colName].map(lambda val: mean if val==emptyNumVal else val)\n",
    "\n",
    "num_list=train.select_dtypes(include=[np.number]).columns.tolist()    \n",
    "\n",
    "def addLogSqr(data):\n",
    "    for col in num_list:\n",
    "        data[col+\"_2\"]=data[col].map(lambda val:val**2)\n",
    "\n",
    "def runData(testData):    \n",
    "    testData=testData.drop(removingCol, axis=1)              \n",
    "    \n",
    "    for col in catCol:\n",
    "        fillCatEmpty(testData,col)\n",
    "    fillCatEmpty(testData,\"poutcome\",\"nonexistent\")\n",
    "    \n",
    "    numeralizeCat(testData,\"month\",{'jan':1,'feb':2,'mar':3,'apr':4, 'may':5, 'jun':6, 'jul':7, 'aug':8,'sep':9,'oct':10, 'nov':11,'dec':12})\n",
    "    \n",
    "    numeralizeCat(testData,\"poutcome\",{\"failure\":0,\"success\":1})\n",
    "    \n",
    "    testData = pd.get_dummies(testData, columns=catCol)     \n",
    "    \n",
    "    fillEmptyNum(testData,\"duration\",0)\n",
    "    #fillEmptyNum(testData,\"pdays\",999)\n",
    "    \n",
    "    addLogSqr(testData)\n",
    "    \n",
    "    return testData"
   ]
  },
  {
   "cell_type": "code",
   "execution_count": 20,
   "metadata": {},
   "outputs": [],
   "source": [
    "#X_train=runData(X_train)\n",
    "X_test=runData(X_test)"
   ]
  },
  {
   "cell_type": "code",
   "execution_count": 21,
   "metadata": {},
   "outputs": [],
   "source": [
    "def colAdded(target1,target2):\n",
    "    res=[]\n",
    "    for c in target1.columns:\n",
    "        if c not in target2.columns:            \n",
    "            res.append(c)\n",
    "    for c in res:\n",
    "        target2[c]=0\n",
    "\n",
    "#colAdded(X_train,X_test)\n",
    "#colAdded(X_test,X_train)"
   ]
  },
  {
   "cell_type": "code",
   "execution_count": 22,
   "metadata": {},
   "outputs": [],
   "source": [
    "#X_train.shape, X_train.shape"
   ]
  },
  {
   "cell_type": "code",
   "execution_count": 23,
   "metadata": {},
   "outputs": [],
   "source": [
    "from sklearn.tree import DecisionTreeClassifier\n",
    "from sklearn.ensemble import RandomForestClassifier\n",
    "from sklearn.linear_model import LogisticRegression\n",
    "from sklearn.neighbors import KNeighborsClassifier \n",
    "from sklearn.metrics import roc_auc_score\n",
    "from sklearn.model_selection import cross_val_score"
   ]
  },
  {
   "cell_type": "code",
   "execution_count": 24,
   "metadata": {},
   "outputs": [
    {
     "data": {
      "application/vnd.jupyter.widget-view+json": {
       "model_id": "f07a07d7b8ce4d2985acf16cd005974b",
       "version_major": 2,
       "version_minor": 0
      },
      "text/plain": [
       "HBox(children=(IntProgress(value=0, max=99), HTML(value='')))"
      ]
     },
     "metadata": {},
     "output_type": "display_data"
    },
    {
     "name": "stdout",
     "output_type": "stream",
     "text": [
      "\n"
     ]
    },
    {
     "data": {
      "application/vnd.jupyter.widget-view+json": {
       "model_id": "2653cbea8a8a426d95d64a40c6e17736",
       "version_major": 2,
       "version_minor": 0
      },
      "text/plain": [
       "HBox(children=(IntProgress(value=0, max=99), HTML(value='')))"
      ]
     },
     "metadata": {},
     "output_type": "display_data"
    },
    {
     "name": "stdout",
     "output_type": "stream",
     "text": [
      "\n"
     ]
    },
    {
     "data": {
      "application/vnd.jupyter.widget-view+json": {
       "model_id": "93e01f1ffea643fba53620b66fb9d636",
       "version_major": 2,
       "version_minor": 0
      },
      "text/plain": [
       "HBox(children=(IntProgress(value=0, max=99), HTML(value='')))"
      ]
     },
     "metadata": {},
     "output_type": "display_data"
    },
    {
     "name": "stdout",
     "output_type": "stream",
     "text": [
      "\n"
     ]
    },
    {
     "data": {
      "application/vnd.jupyter.widget-view+json": {
       "model_id": "ab02d086697b4e89b91a62e6751422ee",
       "version_major": 2,
       "version_minor": 0
      },
      "text/plain": [
       "HBox(children=(IntProgress(value=0, max=99), HTML(value='')))"
      ]
     },
     "metadata": {},
     "output_type": "display_data"
    },
    {
     "name": "stdout",
     "output_type": "stream",
     "text": [
      "\n",
      "['entropy', 'best', 6, 0.9353520758500695]\n"
     ]
    }
   ],
   "source": [
    "from tqdm import tnrange\n",
    "res=[]\n",
    "raMax=0\n",
    "for criterion in [\"gini\",\"entropy\"]:\n",
    "    for splitter in [\"best\",\"random\"]:\n",
    "        for max_depth in tnrange(1,100):            \n",
    "            dt=DecisionTreeClassifier(criterion=criterion,splitter=splitter,max_depth=max_depth)\n",
    "            #dt.fit(X_train,y_train)\n",
    "            #ra=roc_auc_score(y_test,dt.predict_proba(X_test)[:,1])\n",
    "            ra=cross_val_score(dt,X_test,y_test,scoring='roc_auc',cv=10).mean()\n",
    "\n",
    "            if ra>raMax:\n",
    "                raMax=ra\n",
    "                res=[criterion,splitter,max_depth,ra]\n",
    "print(res)            \n"
   ]
  },
  {
   "cell_type": "code",
   "execution_count": 25,
   "metadata": {},
   "outputs": [
    {
     "name": "stdout",
     "output_type": "stream",
     "text": [
      "0.7262935657337447\n",
      "0.9285728920819087\n",
      "0.8666064232079063\n"
     ]
    }
   ],
   "source": [
    "dtc=DecisionTreeClassifier()\n",
    "#dtc.fit(X_train,y_train)\n",
    "#ra=roc_auc_score(y_test,dtc.predict_proba(X_test)[:,1])\n",
    "print(cross_val_score(dtc,X_test,y_test,scoring='roc_auc',cv=10).mean())\n",
    "lr=LogisticRegression(penalty='l1')\n",
    "#lr.fit(X_train,y_train)\n",
    "#ra=roc_auc_score(y_test,lr.predict_proba(X_test)[:,1])\n",
    "print(cross_val_score(lr,X_test,y_test,scoring='roc_auc',cv=10).mean())\n",
    "kn=KNeighborsClassifier()\n",
    "#kn.fit(X_train,y_train)\n",
    "#ra=roc_auc_score(y_test,kn.predict_proba(X_test)[:,1])\n",
    "print(cross_val_score(kn,X_test,y_test,scoring='roc_auc',cv=10).mean())\n"
   ]
  },
  {
   "cell_type": "code",
   "execution_count": 26,
   "metadata": {},
   "outputs": [
    {
     "data": {
      "application/vnd.jupyter.widget-view+json": {
       "model_id": "b4c244e9dd764af7a49522701b1806b5",
       "version_major": 2,
       "version_minor": 0
      },
      "text/plain": [
       "HBox(children=(IntProgress(value=0, max=99), HTML(value='')))"
      ]
     },
     "metadata": {},
     "output_type": "display_data"
    },
    {
     "name": "stdout",
     "output_type": "stream",
     "text": [
      "\n",
      "[93, 0.9292704877793838]\n"
     ]
    }
   ],
   "source": [
    "from tqdm import tnrange\n",
    "res=[]\n",
    "raMax=0\n",
    "for max_depth in tnrange(1,100):\n",
    "    kn=KNeighborsClassifier(n_neighbors=max_depth)\n",
    "    #kn.fit(X_train,y_train)            \n",
    "    #ra=roc_auc_score(y_test,kn.predict_proba(X_test)[:,1])    \n",
    "    ra=cross_val_score(kn,X_test,y_test,scoring='roc_auc',cv=10).mean()\n",
    "    if ra>raMax:\n",
    "        raMax=ra\n",
    "        res=[max_depth,ra]        \n",
    "print(res)  "
   ]
  },
  {
   "cell_type": "code",
   "execution_count": 105,
   "metadata": {},
   "outputs": [],
   "source": [
    "realTest=pd.read_csv(\"test.csv\", index_col=\"_id\")\n",
    "realTest=runData(realTest)"
   ]
  },
  {
   "cell_type": "code",
   "execution_count": 106,
   "metadata": {},
   "outputs": [],
   "source": [
    "train=pd.read_csv(\"train.csv\", index_col=\"_id\")\n",
    "removeEmptyDataForTraining(train) \n",
    "target=\"target\"\n",
    "y=train[target]\n",
    "train=train.drop([target], axis=1) \n",
    "train=runData(train,True)"
   ]
  },
  {
   "cell_type": "code",
   "execution_count": 108,
   "metadata": {},
   "outputs": [],
   "source": [
    "dt=DecisionTreeClassifier(criterion='entropy',splitter='best',max_depth=6)\n",
    "#dt=KNeighborsClassifier(87)\n",
    "dt.fit(train,y)\n",
    "predict= dt.predict_proba(realTest)\n",
    "result=pd.DataFrame({\"_id\":realTest.index, \"target\":predict[:,1]})\n",
    "result.to_csv(\"result.csv\",index=False)"
   ]
  },
  {
   "cell_type": "code",
   "execution_count": null,
   "metadata": {},
   "outputs": [],
   "source": []
  }
 ],
 "metadata": {
  "kernelspec": {
   "display_name": "Python 3",
   "language": "python",
   "name": "python3"
  },
  "language_info": {
   "codemirror_mode": {
    "name": "ipython",
    "version": 3
   },
   "file_extension": ".py",
   "mimetype": "text/x-python",
   "name": "python",
   "nbconvert_exporter": "python",
   "pygments_lexer": "ipython3",
   "version": "3.6.5"
  }
 },
 "nbformat": 4,
 "nbformat_minor": 2
}
